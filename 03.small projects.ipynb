{
  "nbformat": 4,
  "nbformat_minor": 0,
  "metadata": {
    "colab": {
      "provenance": [],
      "authorship_tag": "ABX9TyNP1PyV8jVOw8cViZiimPeE",
      "include_colab_link": true
    },
    "kernelspec": {
      "name": "python3",
      "display_name": "Python 3"
    },
    "language_info": {
      "name": "python"
    }
  },
  "cells": [
    {
      "cell_type": "markdown",
      "metadata": {
        "id": "view-in-github",
        "colab_type": "text"
      },
      "source": [
        "<a href=\"https://colab.research.google.com/github/NayanaSaji/Introduction-to-Python/blob/main/03_if_and_while.ipynb\" target=\"_parent\"><img src=\"https://colab.research.google.com/assets/colab-badge.svg\" alt=\"Open In Colab\"/></a>"
      ]
    },
    {
      "cell_type": "code",
      "execution_count": 1,
      "metadata": {
        "colab": {
          "base_uri": "https://localhost:8080/"
        },
        "id": "GDGP2lsyrpec",
        "outputId": "697aa3aa-af40-4a0f-bbc0-5d79a1839eb3"
      },
      "outputs": [
        {
          "output_type": "stream",
          "name": "stdout",
          "text": [
            "**********\n"
          ]
        }
      ],
      "source": [
        "print(\"*\" * 10)"
      ]
    },
    {
      "cell_type": "code",
      "source": [
        "name = input(\"what is your name?\")\n",
        "print(\"hi\"  + name)"
      ],
      "metadata": {
        "colab": {
          "base_uri": "https://localhost:8080/"
        },
        "id": "fbWFEIp6r6mI",
        "outputId": "20eabecb-0216-461f-b5eb-8256673fb83f"
      },
      "execution_count": 2,
      "outputs": [
        {
          "output_type": "stream",
          "name": "stdout",
          "text": [
            "what is your name? Nayana\n",
            "hi Nayana\n"
          ]
        }
      ]
    },
    {
      "cell_type": "code",
      "source": [
        "name = input(\"what is your name? \")\n",
        "fav_color=input(\"what is your favourite color ? \")\n",
        "print(name + \" likes \" + fav_color)"
      ],
      "metadata": {
        "colab": {
          "base_uri": "https://localhost:8080/"
        },
        "id": "l2lhtxJKt9A5",
        "outputId": "92332cda-a933-4a28-85f7-662e4d4bcfc6"
      },
      "execution_count": 3,
      "outputs": [
        {
          "output_type": "stream",
          "name": "stdout",
          "text": [
            "what is your name?  Tom\n",
            "what is your favourite color ? blue\n",
            " Tom likes blue\n"
          ]
        }
      ]
    },
    {
      "cell_type": "code",
      "source": [
        "c= \"Python for beginners\"\n",
        "print(c[0])\n",
        "print(c[-1])\n",
        "print(c[0:3])\n",
        "print(c[1:-1])\n",
        "print(c[ : ])"
      ],
      "metadata": {
        "colab": {
          "base_uri": "https://localhost:8080/"
        },
        "id": "gwcQj2QVwdO7",
        "outputId": "78bd98ea-b09f-41e4-c8d8-6bf2c0fbd029"
      },
      "execution_count": 4,
      "outputs": [
        {
          "output_type": "stream",
          "name": "stdout",
          "text": [
            "P\n",
            "s\n",
            "Pyt\n",
            "ython for beginner\n",
            "Python for beginners\n"
          ]
        }
      ]
    },
    {
      "cell_type": "code",
      "source": [
        "first=\"Nayana\"\n",
        "second = \"Saji\"\n",
        "msg= f\"{first} {second} is a good girl\"\n",
        "print(msg)"
      ],
      "metadata": {
        "colab": {
          "base_uri": "https://localhost:8080/"
        },
        "id": "wFe3EuksxsZi",
        "outputId": "80f8d3f4-a3af-445c-fca1-a0a95de5694b"
      },
      "execution_count": 5,
      "outputs": [
        {
          "output_type": "stream",
          "name": "stdout",
          "text": [
            "Nayana Saji is a good girl\n"
          ]
        }
      ]
    },
    {
      "cell_type": "code",
      "source": [
        "c= \"Python for beginners\"\n",
        "print(len(c))\n",
        "print(c.upper())\n",
        "print(c)\n",
        "print(c.find(\"o\"))\n",
        "print(c.replace(\"beginners\",\"absolute beginners\"))"
      ],
      "metadata": {
        "colab": {
          "base_uri": "https://localhost:8080/"
        },
        "id": "a8Y4_JJwye_K",
        "outputId": "eb13f110-5aa1-46f7-c61c-048599ae8a3e"
      },
      "execution_count": 6,
      "outputs": [
        {
          "output_type": "stream",
          "name": "stdout",
          "text": [
            "20\n",
            "PYTHON FOR BEGINNERS\n",
            "Python for beginners\n",
            "4\n",
            "Python for absolute beginners\n"
          ]
        }
      ]
    },
    {
      "cell_type": "code",
      "source": [
        "c= \"Python for beginners\"\n",
        "print(\"Python\" in c)"
      ],
      "metadata": {
        "colab": {
          "base_uri": "https://localhost:8080/"
        },
        "id": "efR1TO2fzzr4",
        "outputId": "a6d5ccff-2d02-4be7-b45c-810e4aeedb51"
      },
      "execution_count": 7,
      "outputs": [
        {
          "output_type": "stream",
          "name": "stdout",
          "text": [
            "True\n"
          ]
        }
      ]
    },
    {
      "cell_type": "code",
      "source": [
        "print(10/3)\n",
        "print(10//3)"
      ],
      "metadata": {
        "colab": {
          "base_uri": "https://localhost:8080/"
        },
        "id": "SAVuOwh70hxo",
        "outputId": "3d0f5254-d39c-4149-db0c-ef905ebf7d4c"
      },
      "execution_count": 8,
      "outputs": [
        {
          "output_type": "stream",
          "name": "stdout",
          "text": [
            "3.3333333333333335\n",
            "3\n"
          ]
        }
      ]
    },
    {
      "cell_type": "code",
      "source": [
        "print(10**3)"
      ],
      "metadata": {
        "colab": {
          "base_uri": "https://localhost:8080/"
        },
        "id": "GYcy7jTD0qgA",
        "outputId": "89274c3a-d9ce-45eb-ae0c-4ff5b8138efc"
      },
      "execution_count": 9,
      "outputs": [
        {
          "output_type": "stream",
          "name": "stdout",
          "text": [
            "1000\n"
          ]
        }
      ]
    },
    {
      "cell_type": "code",
      "source": [
        "x=-2.9\n",
        "print(round(x))\n",
        "print(abs(x))"
      ],
      "metadata": {
        "colab": {
          "base_uri": "https://localhost:8080/"
        },
        "id": "dWiOGU33-A0F",
        "outputId": "871ad070-d0a2-419e-e379-6be4dd7a77b1"
      },
      "execution_count": 10,
      "outputs": [
        {
          "output_type": "stream",
          "name": "stdout",
          "text": [
            "-3\n",
            "2.9\n"
          ]
        }
      ]
    },
    {
      "cell_type": "code",
      "source": [
        "import math\n",
        "print(math.ceil(2.9))\n",
        "print(math.floor(2.9))"
      ],
      "metadata": {
        "colab": {
          "base_uri": "https://localhost:8080/"
        },
        "id": "3NKWap4h-bPd",
        "outputId": "a040703b-ed01-42d1-a3f8-f5c7fbc41be6"
      },
      "execution_count": 11,
      "outputs": [
        {
          "output_type": "stream",
          "name": "stdout",
          "text": [
            "3\n",
            "2\n"
          ]
        }
      ]
    },
    {
      "cell_type": "code",
      "source": [
        "hot=True\n",
        "cold = False\n",
        "if hot:\n",
        "  print(\"it's a hot day\")\n",
        "  print(\"Drink water\")\n",
        "elif cold:\n",
        "  print(\"it's a cold day\")\n",
        "  print(\"Wear warm clothes\")\n",
        "else:\n",
        "  print(\"it's a lovely day\")"
      ],
      "metadata": {
        "colab": {
          "base_uri": "https://localhost:8080/"
        },
        "id": "1_fNQqXT-n1c",
        "outputId": "2e9f8feb-7969-4cd0-85c2-f363c7a62146"
      },
      "execution_count": 12,
      "outputs": [
        {
          "output_type": "stream",
          "name": "stdout",
          "text": [
            "it's a hot day\n",
            "Drink water\n"
          ]
        }
      ]
    },
    {
      "cell_type": "code",
      "source": [
        "weight=int(input(\"weight : \"))\n",
        "unit = input(\" L (lbs) or K (Kg) :\")\n",
        "if unit.upper()== \"K\":\n",
        "  converted = weight * 0.45\n",
        "  print(f\"You are {converted} kilos \")\n",
        "else:\n",
        "  converted = weight / 0.45\n",
        "  print(f\"You are {converted} pounds \")"
      ],
      "metadata": {
        "colab": {
          "base_uri": "https://localhost:8080/"
        },
        "id": "IvruzUa__cNd",
        "outputId": "6fb23402-c773-4c9a-ab1c-f8f025733b54"
      },
      "execution_count": 13,
      "outputs": [
        {
          "output_type": "stream",
          "name": "stdout",
          "text": [
            "weight : 54\n",
            " L (lbs) or K (Kg) :k\n",
            "You are 24.3 kilos \n"
          ]
        }
      ]
    },
    {
      "cell_type": "code",
      "source": [
        "i=1\n",
        "while i<=5 :\n",
        "  print(\"*\" * i)\n",
        "  i+=1\n"
      ],
      "metadata": {
        "colab": {
          "base_uri": "https://localhost:8080/"
        },
        "id": "rsiR9OlTBIS8",
        "outputId": "c2ce1d8f-5c8c-4e1e-b469-5b5e6f416d44"
      },
      "execution_count": 14,
      "outputs": [
        {
          "output_type": "stream",
          "name": "stdout",
          "text": [
            "*\n",
            "**\n",
            "***\n",
            "****\n",
            "*****\n"
          ]
        }
      ]
    },
    {
      "cell_type": "code",
      "source": [
        "secret_number = 9\n",
        "guess_count = 0\n",
        "guess_limit = 3\n",
        "while guess_count < guess_limit :\n",
        "  guess = int(input(\"Guess : \"))\n",
        "  guess_count += 1\n",
        "  if guess == secret_number :\n",
        "    print(\"YOU ARE WON!\")\n",
        "    break\n",
        "else:\n",
        "  print(\"Sorry, You failed\")"
      ],
      "metadata": {
        "colab": {
          "base_uri": "https://localhost:8080/"
        },
        "id": "m_CWFGFEBekM",
        "outputId": "0fa4fa31-6529-4741-c960-226b886a8cae"
      },
      "execution_count": 15,
      "outputs": [
        {
          "output_type": "stream",
          "name": "stdout",
          "text": [
            "Guess : 3\n",
            "Guess : 6\n",
            "Guess : 9\n",
            "YOU ARE WON!\n"
          ]
        }
      ]
    }
  ]
}
