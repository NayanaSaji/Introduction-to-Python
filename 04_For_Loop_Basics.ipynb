{
  "nbformat": 4,
  "nbformat_minor": 0,
  "metadata": {
    "colab": {
      "provenance": [],
      "authorship_tag": "ABX9TyMPkIRlm6W2VCFt5Cv/NyG4",
      "include_colab_link": true
    },
    "kernelspec": {
      "name": "python3",
      "display_name": "Python 3"
    },
    "language_info": {
      "name": "python"
    }
  },
  "cells": [
    {
      "cell_type": "markdown",
      "metadata": {
        "id": "view-in-github",
        "colab_type": "text"
      },
      "source": [
        "<a href=\"https://colab.research.google.com/github/NayanaSaji/Introduction-to-Python/blob/main/04_For_Loop_Basics.ipynb\" target=\"_parent\"><img src=\"https://colab.research.google.com/assets/colab-badge.svg\" alt=\"Open In Colab\"/></a>"
      ]
    },
    {
      "cell_type": "code",
      "execution_count": 1,
      "metadata": {
        "colab": {
          "base_uri": "https://localhost:8080/"
        },
        "id": "HCXJGvwOCkdr",
        "outputId": "e7d9e05f-06bc-41dd-e3b7-835e73388f4f"
      },
      "outputs": [
        {
          "name": "stdout",
          "output_type": "stream",
          "text": [
            "> help\n",
            "\n",
            "start - to start car\n",
            "stop - to stop car\n",
            "quit - to quit\n",
            "\n",
            "> start\n",
            "car started...\n",
            "> start\n",
            "car is already started!\n",
            "> stop\n",
            "car stopped...\n",
            "> adg\n",
            "Sorry, I don't understand\n",
            "> quit\n"
          ]
        }
      ],
      "source": [
        "#car game\n",
        "command =\"\"\n",
        "started = False\n",
        "while True :\n",
        "  command = input(\"> \").lower()\n",
        "  if command == \"start\":\n",
        "    if started :\n",
        "       print(\"car is already started!\")\n",
        "    else:\n",
        "      started = True\n",
        "      print(\"car started...\")\n",
        "  elif command == \"stop\":\n",
        "    if not started :\n",
        "       print(\"car is already stopped!\")\n",
        "    else:\n",
        "      started = False\n",
        "      print(\"car stopped...\")\n",
        "  elif command == \"help\":\n",
        "      print(\"\"\"\n",
        "start - to start car\n",
        "stop - to stop car\n",
        "quit - to quit\n",
        "\"\"\")\n",
        "  elif command ==\"quit\":\n",
        "    break\n",
        "  else:\n",
        "    print(\"Sorry, I don't understand\")    "
      ]
    },
    {
      "cell_type": "code",
      "source": [
        "#for loops\n",
        "for i in \"python\":\n",
        "  print(i)"
      ],
      "metadata": {
        "colab": {
          "base_uri": "https://localhost:8080/"
        },
        "id": "e9nU5o1hFhcC",
        "outputId": "1d306911-33d3-44da-a9b8-6bf5f87d8aa0"
      },
      "execution_count": 2,
      "outputs": [
        {
          "output_type": "stream",
          "name": "stdout",
          "text": [
            "p\n",
            "y\n",
            "t\n",
            "h\n",
            "o\n",
            "n\n"
          ]
        }
      ]
    },
    {
      "cell_type": "code",
      "source": [
        "for i in [\"Bob\",\"Tom\",\"Joe\",\"Sarah\",\"Elvia\"]:\n",
        "  print(i)"
      ],
      "metadata": {
        "colab": {
          "base_uri": "https://localhost:8080/"
        },
        "id": "g_R0CT-TFxLw",
        "outputId": "cde8ce52-e906-4f24-f50e-8fffd0dda891"
      },
      "execution_count": 3,
      "outputs": [
        {
          "output_type": "stream",
          "name": "stdout",
          "text": [
            "Bob\n",
            "Tom\n",
            "Joe\n",
            "Sarah\n",
            "Elvia\n"
          ]
        }
      ]
    },
    {
      "cell_type": "code",
      "source": [
        "num=[1,2,3,4,5,6]\n",
        "for i in num:\n",
        "  print(i)"
      ],
      "metadata": {
        "colab": {
          "base_uri": "https://localhost:8080/"
        },
        "id": "f_rMgsnSGIs4",
        "outputId": "d8ad7c7b-bf0c-4cd1-e60e-b4a68abef0ba"
      },
      "execution_count": 4,
      "outputs": [
        {
          "output_type": "stream",
          "name": "stdout",
          "text": [
            "1\n",
            "2\n",
            "3\n",
            "4\n",
            "5\n",
            "6\n"
          ]
        }
      ]
    },
    {
      "cell_type": "code",
      "source": [
        "for i in range(10):\n",
        "  print(i)"
      ],
      "metadata": {
        "colab": {
          "base_uri": "https://localhost:8080/"
        },
        "id": "e3tfgbZYGTny",
        "outputId": "9cbf0081-b805-41d5-b14d-88d448668a7e"
      },
      "execution_count": 5,
      "outputs": [
        {
          "output_type": "stream",
          "name": "stdout",
          "text": [
            "0\n",
            "1\n",
            "2\n",
            "3\n",
            "4\n",
            "5\n",
            "6\n",
            "7\n",
            "8\n",
            "9\n"
          ]
        }
      ]
    },
    {
      "cell_type": "code",
      "source": [
        "for i in range(5,10):\n",
        "  print(i)"
      ],
      "metadata": {
        "colab": {
          "base_uri": "https://localhost:8080/"
        },
        "id": "b9vAt32jGYv5",
        "outputId": "34b08f40-4435-4d7f-ff35-1f18f43be227"
      },
      "execution_count": 6,
      "outputs": [
        {
          "output_type": "stream",
          "name": "stdout",
          "text": [
            "5\n",
            "6\n",
            "7\n",
            "8\n",
            "9\n"
          ]
        }
      ]
    },
    {
      "cell_type": "code",
      "source": [
        "for i in range(5,10,2):\n",
        "  print(i)"
      ],
      "metadata": {
        "colab": {
          "base_uri": "https://localhost:8080/"
        },
        "id": "SbhUI6vgGhla",
        "outputId": "e43c5499-609d-46d2-9994-23942f07e68a"
      },
      "execution_count": 7,
      "outputs": [
        {
          "output_type": "stream",
          "name": "stdout",
          "text": [
            "5\n",
            "7\n",
            "9\n"
          ]
        }
      ]
    },
    {
      "cell_type": "code",
      "source": [
        "prices = [20,30,10]\n",
        "total=0\n",
        "for i in prices:\n",
        "  total+=i\n",
        "print(f\"Total : {total}\")"
      ],
      "metadata": {
        "colab": {
          "base_uri": "https://localhost:8080/"
        },
        "id": "TIn-XaEOGlbB",
        "outputId": "26534951-a5b8-4765-a255-0c30d306e4e9"
      },
      "execution_count": 8,
      "outputs": [
        {
          "output_type": "stream",
          "name": "stdout",
          "text": [
            "Total : 60\n"
          ]
        }
      ]
    },
    {
      "cell_type": "code",
      "source": [
        "#Nested loops\n",
        "for x in range(4):\n",
        "  for y in range(3):\n",
        "    print(f\"({x},{y})\")"
      ],
      "metadata": {
        "colab": {
          "base_uri": "https://localhost:8080/"
        },
        "id": "-khZMEUyHFQR",
        "outputId": "c044b2eb-b9ee-49fe-9886-eb11f92af8dc"
      },
      "execution_count": 9,
      "outputs": [
        {
          "output_type": "stream",
          "name": "stdout",
          "text": [
            "(0,0)\n",
            "(0,1)\n",
            "(0,2)\n",
            "(1,0)\n",
            "(1,1)\n",
            "(1,2)\n",
            "(2,0)\n",
            "(2,1)\n",
            "(2,2)\n",
            "(3,0)\n",
            "(3,1)\n",
            "(3,2)\n"
          ]
        }
      ]
    },
    {
      "cell_type": "code",
      "source": [
        "numbers = [5,2,5,2,2]\n",
        "output=\"\"\n",
        "for X_count in numbers:\n",
        "  for count in range (X_count):\n",
        "    output +='x'\n",
        "    print(output)"
      ],
      "metadata": {
        "colab": {
          "base_uri": "https://localhost:8080/"
        },
        "id": "RRQsm1kqHext",
        "outputId": "c2237542-f297-46b5-f2b4-9c0f073e2c92"
      },
      "execution_count": 10,
      "outputs": [
        {
          "output_type": "stream",
          "name": "stdout",
          "text": [
            "x\n",
            "xx\n",
            "xxx\n",
            "xxxx\n",
            "xxxxx\n",
            "xxxxxx\n",
            "xxxxxxx\n",
            "xxxxxxxx\n",
            "xxxxxxxxx\n",
            "xxxxxxxxxx\n",
            "xxxxxxxxxxx\n",
            "xxxxxxxxxxxx\n",
            "xxxxxxxxxxxxx\n",
            "xxxxxxxxxxxxxx\n",
            "xxxxxxxxxxxxxxx\n",
            "xxxxxxxxxxxxxxxx\n"
          ]
        }
      ]
    },
    {
      "cell_type": "code",
      "source": [
        "numbers = [5,2,5,2,2]\n",
        "for X_count in numbers:\n",
        "  output=\"\"\n",
        "  for count in range (X_count):\n",
        "      output +='x'\n",
        "  print(output)"
      ],
      "metadata": {
        "colab": {
          "base_uri": "https://localhost:8080/"
        },
        "id": "OYSAaVOsIKMp",
        "outputId": "f3173aca-ef88-4603-d52b-3af6240f1780"
      },
      "execution_count": 11,
      "outputs": [
        {
          "output_type": "stream",
          "name": "stdout",
          "text": [
            "xxxxx\n",
            "xx\n",
            "xxxxx\n",
            "xx\n",
            "xx\n"
          ]
        }
      ]
    }
  ]
}